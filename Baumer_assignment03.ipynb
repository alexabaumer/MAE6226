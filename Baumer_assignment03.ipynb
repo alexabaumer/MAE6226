{
 "cells": [
  {
   "cell_type": "code",
   "execution_count": 41,
   "metadata": {
    "collapsed": true
   },
   "outputs": [],
   "source": [
    "import csv \n",
    "import numpy\n",
    "import math\n",
    "from scipy import integrate, linalg\n",
    "from matplotlib import pyplot \n",
    "%matplotlib inline"
   ]
  },
  {
   "cell_type": "markdown",
   "metadata": {},
   "source": [
    "## Part 1"
   ]
  },
  {
   "cell_type": "code",
   "execution_count": 42,
   "metadata": {
    "collapsed": false
   },
   "outputs": [],
   "source": [
    "#load main airfoil geometry\n",
    "with open ('MainFoil_N=50.csv') as infile:\n",
    "    airfoil_main = numpy.loadtxt(infile, dtype=float, delimiter=',')\n",
    "    \n",
    "x_main = numpy.empty((len(airfoil_main),1))\n",
    "y_main = numpy.empty((len(airfoil_main),1))\n",
    "\n",
    "for i in range(0, len(airfoil_main)):\n",
    "    x_main[i] = airfoil_main[i, 0]\n",
    "    y_main[i] = airfoil_main[i, 1]\n",
    "    \n",
    "#load flap geometry \n",
    "with open ('FlapFoil_N=100.csv') as infile:\n",
    "    airfoil_flap = numpy.loadtxt(infile, dtype=float, delimiter=',')\n",
    "    \n",
    "x_flap = numpy.empty((len(airfoil_flap),1))\n",
    "y_flap = numpy.empty((len(airfoil_flap),1))\n",
    "\n",
    "for i in range(0, len(airfoil_flap)):\n",
    "    x_flap[i] = airfoil_flap[i, 0]\n",
    "    y_flap[i] = airfoil_flap[i, 1]\n",
    "    "
   ]
  },
  {
   "cell_type": "code",
   "execution_count": 50,
   "metadata": {
    "collapsed": false
   },
   "outputs": [
    {
     "data": {
      "text/plain": [
       "(-0.25, 0.15)"
      ]
     },
     "execution_count": 50,
     "metadata": {},
     "output_type": "execute_result"
    },
    {
     "data": {
      "image/png": "[encoded data removed]",
      "text/plain": [
       "<matplotlib.figure.Figure at 0x10dbbffd0>"
      ]
     },
     "metadata": {},
     "output_type": "display_data"
    }
   ],
   "source": [
    "#plot airfoil \n",
    "width = 10\n",
    "pyplot.figure(figsize=(width, width))\n",
    "pyplot.grid()\n",
    "pyplot.xlabel('x', fontsize=16)\n",
    "pyplot.ylabel('y', fontsize=16)\n",
    "pyplot.plot(x_main, y_main, color='k', linestyle='-', linewidth=2)\n",
    "pyplot.plot(x_flap, y_flap, color='k', linestyle='-', linewidth=2)\n",
    "pyplot.axis('scaled', adjustable='box')\n",
    "pyplot.xlim(-0.15, 1.4)\n",
    "pyplot.ylim(-0.25,0.15)"
   ]
  },
  {
   "cell_type": "code",
   "execution_count": 5,
   "metadata": {
    "collapsed": true
   },
   "outputs": [],
   "source": [
    "class Panel:\n",
    "    \n",
    "    def __init__(self, xa, ya, xb, yb):\n",
    "        \n",
    "        self.xa, self.ya = xa, ya #panel start \n",
    "        self.xb, self.yb = xb, yb #panel end\n",
    "        \n",
    "        self.xc, self.yc = (xa+xb)/2, (ya+yb)/2 #panel center \n",
    "        self.length = numpy.sqrt((xb-xa)**2 + (yb-ya)**2) #panel length\n",
    "        \n",
    "        #angle between x axis and panel's normal - orientation \n",
    "        if xb-xa <= 0.0:\n",
    "            self.beta = numpy.arccos((yb-ya)/self.length)\n",
    "        elif xb-xa > 0.0:\n",
    "            self.beta = numpy.pi + numpy.arccos(-(yb-ya)/self.length)\n",
    "            \n",
    "        #panel location \n",
    "        if self.beta <= numpy.pi:\n",
    "            self.loc = 'upper' #upper surface\n",
    "        else:\n",
    "            self.loc = 'lower' #lower surface \n",
    "            \n",
    "        self.sigma = 0.0 #strength of source\n",
    "        self.vt = 0.0 #tangential velocity \n",
    "        self.cp = 0.0 #pressure coeff"
   ]
  },
  {
   "cell_type": "code",
   "execution_count": 9,
   "metadata": {
    "collapsed": true
   },
   "outputs": [],
   "source": [
    "def define_panels(x, y, N):\n",
    "    \n",
    "    x_ends, y_ends = x, y \n",
    "    panels = numpy.empty(N, dtype=object)\n",
    "    for i in range(N):\n",
    "        panels[i] = Panel(x_ends[i], y_ends[i], x_ends[i+1], y_ends[i+1])\n",
    "        \n",
    "    return panels"
   ]
  },
  {
   "cell_type": "code",
   "execution_count": 52,
   "metadata": {
    "collapsed": false
   },
   "outputs": [],
   "source": [
    "Nm = len(x_main)-1\n",
    "Nf = len(x_flap)-1\n",
    "\n",
    "panels_main = define_panels(x_main, y_main, Nm)\n",
    "panels_flap = define_panels(x_flap, y_flap, Nf)"
   ]
  },
  {
   "cell_type": "code",
   "execution_count": 53,
   "metadata": {
    "collapsed": false
   },
   "outputs": [
    {
     "data": {
      "text/plain": [
       "(-0.25, 0.15)"
      ]
     },
     "execution_count": 53,
     "metadata": {},
     "output_type": "execute_result"
    },
    {
     "data": {
      "image/png": "[encoded data removed]",
      "text/plain": [
       "<matplotlib.figure.Figure at 0x111516470>"
      ]
     },
     "metadata": {},
     "output_type": "display_data"
    }
   ],
   "source": [
    "width=10\n",
    "pyplot.figure(figsize=(width, width))\n",
    "pyplot.grid()\n",
    "pyplot.xlabel('x', fontsize=16)\n",
    "pyplot.ylabel('y', fontsize=16)\n",
    "\n",
    "pyplot.plot(x_main, y_main, color='k', linestyle='-', linewidth=2)\n",
    "pyplot.plot(x_flap, y_flap, color='k', linestyle='-', linewidth=2)\n",
    "\n",
    "pyplot.plot(numpy.append([panel.xa for panel in panels_main], panels_main[0].xa), \n",
    "           numpy.append([panel.ya for panel in panels_main], panels_main[0].ya), \n",
    "           linestyle='-', linewidth=1, marker='o', markersize=6, color='r')\n",
    "pyplot.plot(numpy.append([panel.xa for panel in panels_flap], panels_flap[0].xa), \n",
    "           numpy.append([panel.ya for panel in panels_flap], panels_flap[0].ya), \n",
    "           linestyle='-', linewidth=1, marker='o', markersize=6, color='r')\n",
    "\n",
    "pyplot.axis('scaled', adjustable='box')\n",
    "pyplot.xlim(-0.15, 1.4)\n",
    "pyplot.ylim(-0.25,0.15)"
   ]
  },
  {
   "cell_type": "code",
   "execution_count": 54,
   "metadata": {
    "collapsed": true
   },
   "outputs": [],
   "source": [
    "class Freestream:\n",
    "    \"\"\"\n",
    "    Freestream conditions\n",
    "    \"\"\"\n",
    "    def __init__(self, u_inf=1.0, alpha=0.0):\n",
    "        \"\"\"\n",
    "        Sets the freestream speed and angle with the x axis \n",
    "        \n",
    "        u_inf: freestream speed \n",
    "        alpha: angle of attack in degrees\"\"\"\n",
    "        \n",
    "        self.u_inf = u_inf\n",
    "        self.alpha = alpha*math.pi/180"
   ]
  },
  {
   "cell_type": "code",
   "execution_count": 55,
   "metadata": {
    "collapsed": false
   },
   "outputs": [],
   "source": [
    "u_inf = 1.0\n",
    "alpha = 0.0 \n",
    "freestream = Freestream(u_inf, alpha)"
   ]
  },
  {
   "cell_type": "code",
   "execution_count": 56,
   "metadata": {
    "collapsed": true
   },
   "outputs": [],
   "source": [
    "def integral(x, y, panel, dxdz, dydz):\n",
    " \n",
    "    def integrand(s):\n",
    "        return ( ((x - (panel.xa - math.sin(panel.beta)*s))*dxdz\n",
    "                  +(y - (panel.ya + math.cos(panel.beta)*s))*dydz)\n",
    "                / ((x - (panel.xa - math.sin(panel.beta)*s))**2\n",
    "                   +(y - (panel.ya + math.cos(panel.beta)*s))**2) )\n",
    "    return integrate.quad(integrand, 0.0, panel.length)[0]"
   ]
  },
  {
   "cell_type": "code",
   "execution_count": 57,
   "metadata": {
    "collapsed": true
   },
   "outputs": [],
   "source": [
    "def build_matrix(panels):\n",
    "    \"\"\"Builds the source matrix \n",
    "    panels: the source panels\n",
    "    A: the source matrix, NxN matrix\n",
    "    \"\"\"\n",
    "    N = len(panels)\n",
    "    A = numpy.empty((N, N), dtype=float)\n",
    "    numpy.fill_diagonal(A, 0.5)\n",
    "    \n",
    "    for i, p_i in enumerate(panels):\n",
    "        for j, p_j in enumerate(panels):\n",
    "            if i != j:\n",
    "                A[i, j] = 0.5/math.pi*integral(p_i.xc, p_i.yc, p_j, math.cos(p_i.beta), math.sin(p_i.beta))\n",
    "                \n",
    "    return A \n",
    "\n",
    "def build_rhs(panels, freestream):\n",
    "    \"\"\"Builds the RHS of the linear system\n",
    "    panels: the source panels\n",
    "    freestream: freestream conditions \n",
    "    b: RHS of the linear system\"\"\"\n",
    "    \n",
    "    b = numpy.empty(len(panels), dtype=float)\n",
    "    \n",
    "    for i, panel in enumerate(panels):\n",
    "        b[i] = -freestream.u_inf * math.cos(freestream.alpha - panel.beta)\n",
    "        \n",
    "    return b"
   ]
  },
  {
   "cell_type": "code",
   "execution_count": null,
   "metadata": {
    "collapsed": true
   },
   "outputs": [],
   "source": []
  },
  {
   "cell_type": "code",
   "execution_count": null,
   "metadata": {
    "collapsed": true
   },
   "outputs": [],
   "source": []
  },
  {
   "cell_type": "code",
   "execution_count": null,
   "metadata": {
    "collapsed": true
   },
   "outputs": [],
   "source": []
  },
  {
   "cell_type": "markdown",
   "metadata": {},
   "source": [
    "## Part 2"
   ]
  },
  {
   "cell_type": "code",
   "execution_count": 67,
   "metadata": {
    "collapsed": false
   },
   "outputs": [],
   "source": [
    "#load main airfoil geometry\n",
    "with open ('NACA23012_MainFoil.csv') as infile:\n",
    "    airfoil_main = numpy.loadtxt(infile, dtype=float, delimiter=',')\n",
    "    \n",
    "x_main = numpy.empty((len(airfoil_main),1))\n",
    "y_main = numpy.empty((len(airfoil_main),1))\n",
    "\n",
    "for i in range(0, len(airfoil_main)):\n",
    "    x_main[i] = airfoil_main[i, 0]\n",
    "    y_main[i] = airfoil_main[i, 1]\n",
    "    \n",
    "#load flap geometry \n",
    "with open ('NACA23012_FlapFoil.csv') as infile:\n",
    "    airfoil_flap = numpy.loadtxt(infile, dtype=float, delimiter=',')\n",
    "    \n",
    "x_flap = numpy.empty((len(airfoil_flap),1))\n",
    "y_flap = numpy.empty((len(airfoil_flap),1))\n",
    "\n",
    "for i in range(0, len(airfoil_flap)):\n",
    "    x_flap[i] = airfoil_flap[i, 0]\n",
    "    y_flap[i] = airfoil_flap[i, 1]"
   ]
  },
  {
   "cell_type": "code",
   "execution_count": 68,
   "metadata": {
    "collapsed": false
   },
   "outputs": [
    {
     "data": {
      "text/plain": [
       "(-0.07, 0.09)"
      ]
     },
     "execution_count": 68,
     "metadata": {},
     "output_type": "execute_result"
    },
    {
     "data": {
      "image/png": "[encoded data removed]",
      "text/plain": [
       "<matplotlib.figure.Figure at 0x10de357b8>"
      ]
     },
     "metadata": {},
     "output_type": "display_data"
    }
   ],
   "source": [
    "#plot airfoil \n",
    "width = 10\n",
    "pyplot.figure(figsize=(width, width))\n",
    "pyplot.grid()\n",
    "pyplot.xlabel('x', fontsize=16)\n",
    "pyplot.ylabel('y', fontsize=16)\n",
    "pyplot.plot(x_main, y_main, color='k', linestyle='-', linewidth=2)\n",
    "pyplot.plot(x_flap, y_flap, color='k', linestyle='-', linewidth=2)\n",
    "pyplot.axis('scaled', adjustable='box')\n",
    "pyplot.xlim(-0.05, 1.25)\n",
    "pyplot.ylim(-0.07,0.09)"
   ]
  },
  {
   "cell_type": "code",
   "execution_count": 69,
   "metadata": {
    "collapsed": true
   },
   "outputs": [],
   "source": [
    "class Panel:\n",
    "    \n",
    "    def __init__(self, xa, ya, xb, yb):\n",
    "        \n",
    "        self.xa, self.ya = xa, ya #panel start \n",
    "        self.xb, self.yb = xb, yb #panel end\n",
    "        \n",
    "        self.xc, self.yc = (xa+xb)/2, (ya+yb)/2 #panel center \n",
    "        self.length = numpy.sqrt((xb-xa)**2 + (yb-ya)**2) #panel length\n",
    "        \n",
    "        #angle between x axis and panel's normal - orientation \n",
    "        if xb-xa <= 0.0:\n",
    "            self.beta = numpy.arccos((yb-ya)/self.length)\n",
    "        elif xb-xa > 0.0:\n",
    "            self.beta = numpy.pi + numpy.arccos(-(yb-ya)/self.length)\n",
    "            \n",
    "        #panel location \n",
    "        if self.beta <= numpy.pi:\n",
    "            self.loc = 'upper' #upper surface\n",
    "        else:\n",
    "            self.loc = 'lower' #lower surface \n",
    "            \n",
    "        self.sigma = 0.0 #strength of source\n",
    "        self.vt = 0.0 #tangential velocity \n",
    "        self.cp = 0.0 #pressure coeff"
   ]
  },
  {
   "cell_type": "code",
   "execution_count": 70,
   "metadata": {
    "collapsed": true
   },
   "outputs": [],
   "source": [
    "def define_panels(x, y, N):\n",
    "    \n",
    "    x_ends, y_ends = x, y \n",
    "    panels = numpy.empty(N, dtype=object)\n",
    "    for i in range(N):\n",
    "        panels[i] = Panel(x_ends[i], y_ends[i], x_ends[i+1], y_ends[i+1])\n",
    "        \n",
    "    return panels"
   ]
  },
  {
   "cell_type": "code",
   "execution_count": 71,
   "metadata": {
    "collapsed": true
   },
   "outputs": [],
   "source": [
    "Nm = len(x_main)-1\n",
    "Nf = len(x_flap)-1\n",
    "\n",
    "panels_main = define_panels(x_main, y_main, Nm)\n",
    "panels_flap = define_panels(x_flap, y_flap, Nf)"
   ]
  },
  {
   "cell_type": "code",
   "execution_count": 72,
   "metadata": {
    "collapsed": false
   },
   "outputs": [],
   "source": [
    "#width=10\n",
    "#pyplot.figure(figsize=(width, width))\n",
    "#pyplot.grid()\n",
    "#pyplot.xlabel('x', fontsize=16)\n",
    "#pyplot.ylabel('y', fontsize=16)\n",
    "\n",
    "#pyplot.plot(x_main, y_main, color='k', linestyle='-', linewidth=2)\n",
    "#pyplot.plot(x_flap, y_flap, color='k', linestyle='-', linewidth=2)\n",
    "\n",
    "#pyplot.plot(numpy.append([panel.xa for panel in panels_main], panels_main[0].xa), \n",
    "           #numpy.append([panel.ya for panel in panels_main], panels_main[0].ya), \n",
    "           #linestyle='-', linewidth=1, marker='o', markersize=6, color='r')\n",
    "#pyplot.plot(numpy.append([panel.xa for panel in panels_flap], panels_flap[0].xa), \n",
    "           #numpy.append([panel.ya for panel in panels_flap], panels_flap[0].ya), \n",
    "           #linestyle='-', linewidth=1, marker='o', markersize=6, color='r')\n",
    "\n",
    "#pyplot.axis('scaled', adjustable='box')\n",
    "#pyplot.xlim(-0.05, 1.5)\n",
    "#pyplot.ylim(-0.1, 0.1)"
   ]
  },
  {
   "cell_type": "code",
   "execution_count": 73,
   "metadata": {
    "collapsed": true
   },
   "outputs": [],
   "source": [
    "class Freestream:\n",
    "    \"\"\"\n",
    "    Freestream conditions\n",
    "    \"\"\"\n",
    "    def __init__(self, u_inf=1.0, alpha=0.0):\n",
    "        \"\"\"\n",
    "        Sets the freestream speed and angle with the x axis \n",
    "        \n",
    "        u_inf: freestream speed \n",
    "        alpha: angle of attack in degrees\"\"\"\n",
    "        \n",
    "        self.u_inf = u_inf\n",
    "        self.alpha = alpha*math.pi/180"
   ]
  },
  {
   "cell_type": "code",
   "execution_count": 74,
   "metadata": {
    "collapsed": true
   },
   "outputs": [],
   "source": [
    "u_inf = 1.0\n",
    "alpha = 0.0 \n",
    "freestream = Freestream(u_inf, alpha)"
   ]
  },
  {
   "cell_type": "code",
   "execution_count": null,
   "metadata": {
    "collapsed": true
   },
   "outputs": [],
   "source": []
  },
  {
   "cell_type": "code",
   "execution_count": null,
   "metadata": {
    "collapsed": true
   },
   "outputs": [],
   "source": [
    "#use bisection method to determine the angle of attack that will cause zero lift \n",
    "#when the flap angle is 20 degrees"
   ]
  }
 ],
 "metadata": {
  "anaconda-cloud": {},
  "kernelspec": {
   "display_name": "Python [Root]",
   "language": "python",
   "name": "Python [Root]"
  },
  "language_info": {
   "codemirror_mode": {
    "name": "ipython",
    "version": 3
   },
   "file_extension": ".py",
   "mimetype": "text/x-python",
   "name": "python",
   "nbconvert_exporter": "python",
   "pygments_lexer": "ipython3",
   "version": "3.5.2"
  }
 },
 "nbformat": 4,
 "nbformat_minor": 0
}
