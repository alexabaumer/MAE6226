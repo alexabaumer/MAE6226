{
 "cells": [
  {
   "cell_type": "code",
   "execution_count": 1,
   "metadata": {
    "collapsed": true
   },
   "outputs": [],
   "source": [
    "import csv \n",
    "import numpy\n",
    "import math\n",
    "from scipy import integrate, linalg\n",
    "from matplotlib import pyplot \n",
    "%matplotlib inline"
   ]
  },
  {
   "cell_type": "markdown",
   "metadata": {},
   "source": [
    "## Part 1"
   ]
  },
  {
   "cell_type": "code",
   "execution_count": 43,
   "metadata": {
    "collapsed": false
   },
   "outputs": [],
   "source": [
    "#load main airfoil geometry\n",
    "with open ('MainFoil_N=100.csv') as infile:\n",
    "    airfoil_main = numpy.loadtxt(infile, dtype=float, delimiter=',')\n",
    "    \n",
    "x_main = numpy.empty((len(airfoil_main),1), dtype=float)\n",
    "y_main = numpy.empty((len(airfoil_main),1), dtype=float)\n",
    "\n",
    "for i in range(0, len(airfoil_main)):\n",
    "    x_main[i] = airfoil_main[i, 0]\n",
    "    y_main[i] = airfoil_main[i, 1]\n",
    "    \n",
    "#load flap geometry \n",
    "with open ('FlapFoil_N=100.csv') as infile:\n",
    "    airfoil_flap = numpy.loadtxt(infile, dtype=float, delimiter=',')\n",
    "    \n",
    "x_flap = numpy.empty((len(airfoil_flap),1), dtype=float)\n",
    "y_flap = numpy.empty((len(airfoil_flap),1), dtype=float)\n",
    "\n",
    "for i in range(0, len(airfoil_flap)):\n",
    "    x_flap[i] = airfoil_flap[i, 0]\n",
    "    y_flap[i] = airfoil_flap[i, 1]\n",
    "    "
   ]
  },
  {
   "cell_type": "code",
   "execution_count": 44,
   "metadata": {
    "collapsed": false
   },
   "outputs": [
    {
     "data": {
      "text/plain": [
       "(-0.25, 0.15)"
      ]
     },
     "execution_count": 44,
     "metadata": {},
     "output_type": "execute_result"
    },
    {
     "data": {
      "image/png": "[encoded data removed]",
      "text/plain": [
       "<matplotlib.figure.Figure at 0x110786860>"
      ]
     },
     "metadata": {},
     "output_type": "display_data"
    }
   ],
   "source": [
    "#plot airfoil \n",
    "width = 10\n",
    "pyplot.figure(figsize=(width, width))\n",
    "pyplot.grid()\n",
    "pyplot.xlabel('x', fontsize=16)\n",
    "pyplot.ylabel('y', fontsize=16)\n",
    "pyplot.plot(x_main, y_main, color='k', linestyle='-', linewidth=2)\n",
    "pyplot.plot(x_flap, y_flap, color='k', linestyle='-', linewidth=2)\n",
    "pyplot.axis('scaled', adjustable='box')\n",
    "pyplot.xlim(-0.15, 1.4)\n",
    "pyplot.ylim(-0.25,0.15)"
   ]
  },
  {
   "cell_type": "code",
   "execution_count": 45,
   "metadata": {
    "collapsed": true
   },
   "outputs": [],
   "source": [
    "class Panel:\n",
    "    \n",
    "    def __init__(self, xa, ya, xb, yb):\n",
    "        \n",
    "        self.xa, self.ya = xa, ya #panel start \n",
    "        self.xb, self.yb = xb, yb #panel end\n",
    "        \n",
    "        self.xc, self.yc = (xa+xb)/2, (ya+yb)/2 #panel center \n",
    "        self.length = numpy.sqrt((xb-xa)**2 + (yb-ya)**2) #panel length\n",
    "        \n",
    "        #angle between x axis and panel's normal - orientation \n",
    "        if xb-xa <= 0.0:\n",
    "            self.beta = numpy.arccos((yb-ya)/self.length)\n",
    "        elif xb-xa > 0.0:\n",
    "            self.beta = numpy.pi + numpy.arccos(-(yb-ya)/self.length)\n",
    "            \n",
    "        #panel location \n",
    "        if self.beta <= numpy.pi:\n",
    "            self.loc = 'upper' #upper surface\n",
    "        else:\n",
    "            self.loc = 'lower' #lower surface \n",
    "            \n",
    "        self.sigma = 0.0 #strength of source\n",
    "        self.vt = 0.0 #tangential velocity \n",
    "        self.cp = 0.0 #pressure coeff"
   ]
  },
  {
   "cell_type": "code",
   "execution_count": 86,
   "metadata": {
    "collapsed": true
   },
   "outputs": [],
   "source": [
    "def define_panels(x, y, N):\n",
    "    \n",
    "    x_ends, y_ends = x, y \n",
    "    \n",
    "    panels = numpy.empty(N, dtype=object)\n",
    "    for i in range(N):\n",
    "        panels[i] = Panel(x_ends[i], y_ends[i], x_ends[i+1], y_ends[i+1])\n",
    "        \n",
    "    return panels"
   ]
  },
  {
   "cell_type": "code",
   "execution_count": 87,
   "metadata": {
    "collapsed": false
   },
   "outputs": [],
   "source": [
    "Nm = len(x_main)-1\n",
    "Nf = len(x_flap)-1\n",
    "\n",
    "panels_main = define_panels(x_main, y_main, Nm)\n",
    "panels_flap = define_panels(x_flap, y_flap, Nf)\n",
    "\n",
    "panels = numpy.concatenate((panels_main, panels_flap))"
   ]
  },
  {
   "cell_type": "code",
   "execution_count": 88,
   "metadata": {
    "collapsed": false
   },
   "outputs": [
    {
     "data": {
      "text/plain": [
       "(-0.25, 0.15)"
      ]
     },
     "execution_count": 88,
     "metadata": {},
     "output_type": "execute_result"
    },
    {
     "data": {
      "image/png": "[encoded data removed]",
      "text/plain": [
       "<matplotlib.figure.Figure at 0x1125c4080>"
      ]
     },
     "metadata": {},
     "output_type": "display_data"
    }
   ],
   "source": [
    "width=10\n",
    "pyplot.figure(figsize=(width, width))\n",
    "pyplot.grid()\n",
    "pyplot.xlabel('x', fontsize=16)\n",
    "pyplot.ylabel('y', fontsize=16)\n",
    "\n",
    "pyplot.plot(x_main, y_main, color='k', linestyle='-', linewidth=2)\n",
    "pyplot.plot(x_flap, y_flap, color='k', linestyle='-', linewidth=2)\n",
    "\n",
    "pyplot.plot(numpy.append([panel.xa for panel in panels_main], panels_main[0].xa), \n",
    "           numpy.append([panel.ya for panel in panels_main], panels_main[0].ya), \n",
    "           linestyle='-', linewidth=1, marker='o', markersize=6, color='r')\n",
    "pyplot.plot(numpy.append([panel.xa for panel in panels_flap], panels_flap[0].xa), \n",
    "           numpy.append([panel.ya for panel in panels_flap], panels_flap[0].ya), \n",
    "           linestyle='-', linewidth=1, marker='o', markersize=6, color='r')\n",
    "\n",
    "pyplot.axis('scaled', adjustable='box')\n",
    "pyplot.xlim(-0.15, 1.4)\n",
    "pyplot.ylim(-0.25,0.15)"
   ]
  },
  {
   "cell_type": "code",
   "execution_count": null,
   "metadata": {
    "collapsed": true
   },
   "outputs": [],
   "source": [
    "class Freestream:\n",
    "    \"\"\"\n",
    "    Freestream conditions.\n",
    "    \"\"\"\n",
    "    def __init__(self, u_inf=1.0, alpha=0.0):\n",
    "        \"\"\"\n",
    "        Sets the freestream speed and angle (in degrees).\n",
    "        \n",
    "        Parameters\n",
    "        ----------\n",
    "        u_inf: float, optional\n",
    "            Freestream speed;\n",
    "            default: 1.0.\n",
    "        alpha: float, optional\n",
    "            Angle of attack in degrees;\n",
    "            default 0.0.\n",
    "        \"\"\"\n",
    "        self.u_inf = u_inf\n",
    "        self.alpha = alpha*numpy.pi/180.0 # degrees to radians"
   ]
  },
  {
   "cell_type": "code",
   "execution_count": null,
   "metadata": {
    "collapsed": false
   },
   "outputs": [],
   "source": [
    "u_inf = 1.0\n",
    "alpha = 0.0 \n",
    "freestream = Freestream(u_inf, alpha)"
   ]
  },
  {
   "cell_type": "code",
   "execution_count": 89,
   "metadata": {
    "collapsed": true
   },
   "outputs": [],
   "source": [
    "def integral(x, y, panel, dxdk, dydk):\n",
    "    \n",
    "    def integrand(s):\n",
    "        return ( ((x - (panel.xa - numpy.sin(panel.beta)*s))*dxdk\n",
    "                  +(y - (panel.ya + numpy.cos(panel.beta)*s))*dydk)\n",
    "                / ((x - (panel.xa - numpy.sin(panel.beta)*s))**2\n",
    "                   +(y - (panel.ya + numpy.cos(panel.beta)*s))**2) )\n",
    "    return integrate.quad(lambda s: integrand(s), 0.0, panel.length)[0]"
   ]
  },
  {
   "cell_type": "code",
   "execution_count": 90,
   "metadata": {
    "collapsed": true
   },
   "outputs": [],
   "source": [
    "def source_contribution_normal(panels):\n",
    "    \"\"\"\n",
    "    Builds the source contribution matrix for the normal velocity.\n",
    "    \n",
    "    Parameters\n",
    "    ----------\n",
    "    panels: 1D array of Panel objects\n",
    "        List of panels.\n",
    "    \n",
    "    Returns\n",
    "    -------\n",
    "    A: 2D Numpy array of floats\n",
    "        Source contribution matrix.\n",
    "    \"\"\"\n",
    "    N = len(panels)\n",
    "    A = numpy.empty((N,N), dtype=float)\n",
    "    numpy.fill_diagonal(A, 0.5)\n",
    "\n",
    "    for i, panel_i in enumerate(panels):\n",
    "        for j, panel_j in enumerate(panels):\n",
    "            if i != j:\n",
    "                A[i, j] = 0.5/numpy.pi*integral(panel_i.xc, panel_i.yc, \n",
    "                                                panel_j,\n",
    "                                                numpy.cos(panel_i.beta),\n",
    "                                                numpy.sin(panel_i.beta))\n",
    "\n",
    "    return A"
   ]
  },
  {
   "cell_type": "code",
   "execution_count": 91,
   "metadata": {
    "collapsed": true
   },
   "outputs": [],
   "source": [
    "def vortex_contribution_normal(panels):\n",
    "    \"\"\"\n",
    "    Builds the vortex contribution matrix for the normal velocity.\n",
    "    \n",
    "    Parameters\n",
    "    ----------\n",
    "    panels: 1D array of Panel objects\n",
    "        List of panels.\n",
    "    \n",
    "    Returns\n",
    "    -------\n",
    "    A: 2D Numpy array of floats\n",
    "        Vortex contribution matrix.\n",
    "    \"\"\"\n",
    "    N = len(panels)\n",
    "    A = numpy.empty((N,N), dtype=float)\n",
    "    numpy.fill_diagonal(A, 0.0)\n",
    "\n",
    "    for i, panel_i in enumerate(panels):\n",
    "        for j, panel_j in enumerate(panels):\n",
    "            if i != j:\n",
    "                A[i, j] = -0.5/numpy.pi*integral(panel_i.xc, panel_i.yc, \n",
    "                                                 panel_j,\n",
    "                                                 numpy.sin(panel_i.beta),\n",
    "                                                 -numpy.cos(panel_i.beta))\n",
    "\n",
    "    return A"
   ]
  },
  {
   "cell_type": "code",
   "execution_count": 92,
   "metadata": {
    "collapsed": false
   },
   "outputs": [],
   "source": [
    "def matrix(panels):\n",
    "    \"\"\"Build matrix of linear system including kutta condition\n",
    "    \"\"\"\n",
    "    \n",
    "    N = len(panels)\n",
    "    \n",
    "    #vortex \n",
    "    vc = numpy.empty((N, 2), dtype=float)\n",
    "    \n",
    "    #source\n",
    "    sc1 = numpy.zeros((N), dtype=float)\n",
    "    sc2 = numpy.zeros((N), dtype=float)\n",
    "    \n",
    "    #kutta\n",
    "    kc = numpy.empty((2, N+2), dtype=float)\n",
    "    \n",
    "    #matrix\n",
    "    a = numpy.zeros((N, N+2), dtype=float)\n",
    "    A = numpy.empty((N+2, N+2), dtype=float)\n",
    "    \n",
    "    a_source = source_contribution_normal(panels)\n",
    "    b_vortex = vortex_contribution_normal(panels)\n",
    "    \n",
    "    for i, panel_i in enumerate(panels):\n",
    "        vc[i,0] = numpy.sum(b_vortex[i, :(N/2)])\n",
    "        vc[i,1] = numpy.sum(b_vortex[i, (N/2):])\n",
    "    \n",
    "    for i, panel_i in enumerate(panels):\n",
    "        sc1[i] = numpy.sum(a_source[i, :(N/2)])\n",
    "        sc2[i] = numpy.sum(a_source[i, (N/2):])\n",
    "        \n",
    "    a[:N,:N] = b_vortex\n",
    "    a[:,-2], a[:,-1] = -sc1, -sc2\n",
    "    \n",
    "    kc[0,:] = a[0,:] + a[(N/2)-1,:]\n",
    "    kc[1,:] = a[(N/2),:] + a[-1,:]\n",
    "    \n",
    "    A[0:N,0:N] = a_source\n",
    "    A[0:N,N:] = vc\n",
    "    A[N:,:] = kc\n",
    "    \n",
    "    return A, a"
   ]
  },
  {
   "cell_type": "code",
   "execution_count": 93,
   "metadata": {
    "collapsed": false
   },
   "outputs": [
    {
     "name": "stderr",
     "output_type": "stream",
     "text": [
      "/Users/alexabaumer/anaconda3/lib/python3.5/site-packages/ipykernel/__main__.py:25: VisibleDeprecationWarning: using a non-integer number instead of an integer will result in an error in the future\n",
      "/Users/alexabaumer/anaconda3/lib/python3.5/site-packages/ipykernel/__main__.py:26: VisibleDeprecationWarning: using a non-integer number instead of an integer will result in an error in the future\n",
      "/Users/alexabaumer/anaconda3/lib/python3.5/site-packages/ipykernel/__main__.py:29: VisibleDeprecationWarning: using a non-integer number instead of an integer will result in an error in the future\n",
      "/Users/alexabaumer/anaconda3/lib/python3.5/site-packages/ipykernel/__main__.py:30: VisibleDeprecationWarning: using a non-integer number instead of an integer will result in an error in the future\n",
      "/Users/alexabaumer/anaconda3/lib/python3.5/site-packages/ipykernel/__main__.py:35: VisibleDeprecationWarning: using a non-integer number instead of an integer will result in an error in the future\n",
      "/Users/alexabaumer/anaconda3/lib/python3.5/site-packages/ipykernel/__main__.py:36: VisibleDeprecationWarning: using a non-integer number instead of an integer will result in an error in the future\n"
     ]
    }
   ],
   "source": [
    "A, a = matrix(panels)"
   ]
  },
  {
   "cell_type": "code",
   "execution_count": 94,
   "metadata": {
    "collapsed": true
   },
   "outputs": [],
   "source": [
    "def build_freestream_rhs(panels, freestream):\n",
    "    \"\"\"\n",
    "    Builds the right-hand side of the system \n",
    "    arising from the freestream contribution.\n",
    "    \n",
    "    Parameters\n",
    "    ----------\n",
    "    panels: 1D array of Panel objects\n",
    "        List of panels.\n",
    "    freestream: Freestream object\n",
    "        Freestream conditions.\n",
    "    \n",
    "    Returns\n",
    "    -------\n",
    "    b: 1D Numpy array of floats\n",
    "        Freestream contribution on each panel and on the Kutta condition.\n",
    "    \"\"\"\n",
    "    N = len(panels)\n",
    "    \n",
    "    b = numpy.empty(N+2,dtype=float)\n",
    "    # freestream contribution on each panel\n",
    "    for i, panel in enumerate(panels):\n",
    "        b[i] = -freestream.u_inf * numpy.cos(freestream.alpha - panel.beta)\n",
    "    # freestream contribution on the Kutta condition\n",
    "    b[N] = -freestream.u_inf*( numpy.sin(freestream.alpha-panels[0].beta)\n",
    "                               +numpy.sin(freestream.alpha-panels[(N/2)-1].beta) )\n",
    "    \n",
    "    b[N+1] = -freestream.u_inf*( numpy.sin(freestream.alpha-panels[(N/2)].beta)\n",
    "                               +numpy.sin(freestream.alpha-panels[N-1].beta) )\n",
    "  \n",
    "    return b"
   ]
  },
  {
   "cell_type": "code",
   "execution_count": 95,
   "metadata": {
    "collapsed": false
   },
   "outputs": [
    {
     "name": "stderr",
     "output_type": "stream",
     "text": [
      "/Users/alexabaumer/anaconda3/lib/python3.5/site-packages/ipykernel/__main__.py:26: VisibleDeprecationWarning: using a non-integer number instead of an integer will result in an error in the future\n",
      "/Users/alexabaumer/anaconda3/lib/python3.5/site-packages/ipykernel/__main__.py:28: VisibleDeprecationWarning: using a non-integer number instead of an integer will result in an error in the future\n"
     ]
    }
   ],
   "source": [
    "b = build_freestream_rhs(panels, freestream)"
   ]
  },
  {
   "cell_type": "code",
   "execution_count": 96,
   "metadata": {
    "collapsed": false
   },
   "outputs": [],
   "source": [
    "strengths = numpy.linalg.solve(A, b)\n",
    "\n",
    "for i, panel in enumerate(panels):\n",
    "    panel.sigma = strengths[i]\n",
    "    \n",
    "gamma = strengths[-2:]"
   ]
  },
  {
   "cell_type": "code",
   "execution_count": 97,
   "metadata": {
    "collapsed": false
   },
   "outputs": [],
   "source": [
    "def compute_tangential_velocity(panels, freestream, gamma, A):\n",
    "    \"\"\"\n",
    "    Computes the tangential surface velocity.\n",
    "    \n",
    "    Parameters\n",
    "    ----------\n",
    "    panels: 1D array of Panel objects\n",
    "        List of panels.\n",
    "    freestream: Freestream object\n",
    "        Freestream conditions.\n",
    "    gamma: float\n",
    "        Circulation density.\n",
    "    \"\"\" \n",
    "    N = len(panels)\n",
    "    b = freestream.u_inf*numpy.sin([freestream.alpha-panel.beta \n",
    "                                    for panel in panels])\n",
    "    \n",
    "    strengths = numpy.append([panel.sigma for panel in panels], gamma)\n",
    "      \n",
    "    tangential_velocities = numpy.dot(A, strengths) + b\n",
    "    \n",
    "    for i, panel in enumerate(panels):\n",
    "        panel.vt = tangential_velocities[i]"
   ]
  },
  {
   "cell_type": "code",
   "execution_count": 98,
   "metadata": {
    "collapsed": false
   },
   "outputs": [],
   "source": [
    "compute_tangential_velocity(panels, freestream, gamma, a)"
   ]
  },
  {
   "cell_type": "code",
   "execution_count": 99,
   "metadata": {
    "collapsed": true
   },
   "outputs": [],
   "source": [
    "def compute_pressure_coefficient(panels, freestream):\n",
    "    \"\"\"\n",
    "    Computes the surface pressure coefficients.\n",
    "    \n",
    "    Parameters\n",
    "    ----------\n",
    "    panels: 1D array of Panel objects\n",
    "        List of panels.\n",
    "    freestream: Freestream object\n",
    "        Freestream conditions.\n",
    "    \"\"\"\n",
    "    for panel in panels:\n",
    "        panel.cp = 1.0 - (panel.vt/freestream.u_inf)**2"
   ]
  },
  {
   "cell_type": "code",
   "execution_count": 100,
   "metadata": {
    "collapsed": true
   },
   "outputs": [],
   "source": [
    "# surface pressure coefficient\n",
    "compute_pressure_coefficient(panels, freestream)"
   ]
  },
  {
   "cell_type": "code",
   "execution_count": 101,
   "metadata": {
    "collapsed": false
   },
   "outputs": [
    {
     "name": "stdout",
     "output_type": "stream",
     "text": [
      "[-0.00174836]\n"
     ]
    }
   ],
   "source": [
    "# calculate the accuracy\n",
    "accuracy = sum([panel.sigma*panel.length for panel in panels])\n",
    "print(accuracy)"
   ]
  },
  {
   "cell_type": "code",
   "execution_count": 102,
   "metadata": {
    "collapsed": false
   },
   "outputs": [
    {
     "name": "stdout",
     "output_type": "stream",
     "text": [
      "[  0.90426217   1.72254242   2.44328464   3.01822085   3.35714259\n",
      "   3.49070613   3.49142472   3.41631885   3.31084117   3.20655047\n",
      "   3.11458835   3.04168208   2.98693842   2.95000754   2.92937679\n",
      "   2.92393341   2.93210711   2.95131184   2.97967164   3.01636633\n",
      "   3.06169712   3.11595268   3.17713474   3.24385317   3.31717289\n",
      "   3.39752271   3.48450079   3.57792168   3.67830664   3.78721697\n",
      "   3.90518345   4.03196557   4.16952754   4.32040105   4.4861359\n",
      "   4.6702132    4.87741702   5.11021696   5.37574704   5.68576144\n",
      "   6.04594048   6.4730211    6.99864118   7.61920152   8.37402065\n",
      "   9.445902    10.65004612  11.84266091  13.58907196  14.5001696\n",
      "  14.39557322  12.7043685   10.56923314   8.90683491   7.3898464\n",
      "   6.33803638   5.43433662   4.71632975   4.16581803   3.70482328\n",
      "   3.32639166   3.01808838   2.76040708   2.5461968    2.36889407\n",
      "   2.22117906   2.10056781   2.0045664    1.92072157   1.85906033\n",
      "   1.84523053   1.78993209   1.68695063   1.70769915   1.7804832\n",
      "   1.77810605   1.77613872   1.80651998   1.84134973   1.8791753\n",
      "   1.9253094    1.97730445   2.03322213   2.09270859   2.15521028\n",
      "   2.22012995   2.28455762   2.34466384   2.39633181   2.4319983\n",
      "   2.44000587   2.39794403   2.27850181   2.04109026   1.66648809\n",
      "   1.16494089   0.61152076   0.09110126  -0.29282868  -0.56184801\n",
      "   0.61817163   0.96610414   1.0097353    1.11646175   1.43006434\n",
      "   1.73247319   1.99808315   2.25953553   2.51992735   2.77392027\n",
      "   3.01318837   3.24140424   3.46096073   3.67116818   3.86888898\n",
      "   4.05275484   4.22405835   4.38302597   4.52679839   4.65392548\n",
      "   4.76667885   4.86468731   4.94204515   4.99661153   5.03499798\n",
      "   5.05586103   5.04690366   5.01111122   4.95345783   4.86836622\n",
      "   4.75083972   4.60304774   4.42278106   4.20535958   3.95823807\n",
      "   3.67919869   3.36418379   3.02925474   2.69230379   2.35863516\n",
      "   2.05770578   1.83329745   1.7111091    1.73901649   1.96557187\n",
      "   2.42618947   3.29292568   5.04680076   7.20112373  10.26065717\n",
      "   9.81025658   7.18657486   5.97751124   5.12161599   4.56120086\n",
      "   4.13398866   3.81313619   3.57723509   3.38324944   3.22094962\n",
      "   3.08971847   2.98158166   2.88927095   2.81008459   2.74184346\n",
      "   2.68212093   2.62857461   2.57958804   2.53383804   2.49025853\n",
      "   2.44801386   2.40622355   2.3640172    2.32063349   2.27547775\n",
      "   2.22808395   2.17794582   2.12459123   2.06768289   2.00699271\n",
      "   1.9422833    1.87311527   1.79877807   1.71914375   1.63448766\n",
      "   1.5453297    1.45112647   1.35147397   1.24641606   1.13549158\n",
      "   1.01888052   0.89827051   0.78199232   0.664257     0.51312112\n",
      "   0.31677173   0.28785005   0.51659936   0.35349267   0.30970534]\n",
      "-0.389523438805\n"
     ]
    }
   ],
   "source": [
    "lift, drag = 0.0, 0.0\n",
    "\n",
    "for panel in panels:\n",
    "    lift -= panel.cp*panel.length*math.sin(panel.beta)\n",
    "    drag += sum(panel.cp*panel.length*math.cos(panel.beta))/len(panels)\n",
    "    \n",
    "print(lift)\n",
    "print(drag)"
   ]
  },
  {
   "cell_type": "code",
   "execution_count": 103,
   "metadata": {
    "collapsed": false
   },
   "outputs": [
    {
     "data": {
      "text/plain": [
       "-1.8072897822940428"
      ]
     },
     "execution_count": 103,
     "metadata": {},
     "output_type": "execute_result"
    }
   ],
   "source": [
    "sum(panels[2].cp)/len(panels)"
   ]
  },
  {
   "cell_type": "code",
   "execution_count": null,
   "metadata": {
    "collapsed": true
   },
   "outputs": [],
   "source": []
  },
  {
   "cell_type": "markdown",
   "metadata": {},
   "source": [
    "## Part 2"
   ]
  },
  {
   "cell_type": "code",
   "execution_count": 70,
   "metadata": {
    "collapsed": false
   },
   "outputs": [],
   "source": [
    "#load main airfoil geometry\n",
    "with open ('NACA23012_MainFoil.csv') as infile:\n",
    "    airfoil_main = numpy.loadtxt(infile, dtype=float, delimiter=',')\n",
    "    \n",
    "x_main = numpy.empty((len(airfoil_main),1))\n",
    "y_main = numpy.empty((len(airfoil_main),1))\n",
    "\n",
    "for i in range(0, len(airfoil_main)):\n",
    "    x_main[i] = airfoil_main[i, 0]\n",
    "    y_main[i] = airfoil_main[i, 1]\n",
    "    \n",
    "#load flap geometry \n",
    "with open ('NACA23012_FlapFoil.csv') as infile:\n",
    "    airfoil_flap = numpy.loadtxt(infile, dtype=float, delimiter=',')\n",
    "    \n",
    "x_flap = numpy.empty((len(airfoil_flap),1))\n",
    "y_flap = numpy.empty((len(airfoil_flap),1))\n",
    "\n",
    "for i in range(0, len(airfoil_flap)):\n",
    "    x_flap[i] = airfoil_flap[i, 0]\n",
    "    y_flap[i] = airfoil_flap[i, 1]"
   ]
  },
  {
   "cell_type": "code",
   "execution_count": 71,
   "metadata": {
    "collapsed": false
   },
   "outputs": [
    {
     "data": {
      "text/plain": [
       "(-0.07, 0.09)"
      ]
     },
     "execution_count": 71,
     "metadata": {},
     "output_type": "execute_result"
    },
    {
     "data": {
      "image/png": "[encoded data removed]",
      "text/plain": [
       "<matplotlib.figure.Figure at 0x10dda86d8>"
      ]
     },
     "metadata": {},
     "output_type": "display_data"
    }
   ],
   "source": [
    "#plot airfoil \n",
    "width = 10\n",
    "pyplot.figure(figsize=(width, width))\n",
    "pyplot.grid()\n",
    "pyplot.xlabel('x', fontsize=16)\n",
    "pyplot.ylabel('y', fontsize=16)\n",
    "pyplot.plot(x_main, y_main, color='k', linestyle='-', linewidth=2)\n",
    "pyplot.plot(x_flap, y_flap, color='k', linestyle='-', linewidth=2)\n",
    "pyplot.axis('scaled', adjustable='box')\n",
    "pyplot.xlim(-0.05, 1.25)\n",
    "pyplot.ylim(-0.07,0.09)"
   ]
  },
  {
   "cell_type": "code",
   "execution_count": 72,
   "metadata": {
    "collapsed": true
   },
   "outputs": [],
   "source": [
    "def rotate_flap(x_flap, y_flap, xc, yc, theta):\n",
    "    \n",
    "    theta = theta * numpy.pi / 180\n",
    "    \n",
    "    x = x_flap - xc\n",
    "    y = y_flap - yc\n",
    "    \n",
    "    xn = (x*numpy.cos(theta) + y*numpy.sin(theta)) + xc\n",
    "    yn = (-x*numpy.sin(theta) + y*numpy.cos(theta)) + yc\n",
    "    \n",
    "    return xn, yn"
   ]
  },
  {
   "cell_type": "code",
   "execution_count": 77,
   "metadata": {
    "collapsed": true
   },
   "outputs": [],
   "source": [
    "#Rotate flap \n",
    "xc = 1.03 \n",
    "yc = -0.054\n",
    "theta = 20.0\n",
    "xn, yn = rotate_flap(x_flap, y_flap, xc, yc, theta)"
   ]
  },
  {
   "cell_type": "code",
   "execution_count": 80,
   "metadata": {
    "collapsed": false
   },
   "outputs": [],
   "source": [
    "Nm = len(x_main)-1\n",
    "Nf = len(x_flap)-1\n",
    "\n",
    "panels_main = define_panels(x_main, y_main, Nm)\n",
    "panels_flap = define_panels(xn, yn, Nf)\n",
    "panels = numpy.append(panels_main, panels_flap)"
   ]
  },
  {
   "cell_type": "code",
   "execution_count": 82,
   "metadata": {
    "collapsed": false
   },
   "outputs": [
    {
     "data": {
      "text/plain": [
       "(-0.25, 0.15)"
      ]
     },
     "execution_count": 82,
     "metadata": {},
     "output_type": "execute_result"
    },
    {
     "data": {
      "image/png": "[encoded data removed]",
      "text/plain": [
       "<matplotlib.figure.Figure at 0x1114d82e8>"
      ]
     },
     "metadata": {},
     "output_type": "display_data"
    }
   ],
   "source": [
    "width=10\n",
    "pyplot.figure(figsize=(width, width))\n",
    "pyplot.grid()\n",
    "pyplot.xlabel('x', fontsize=16)\n",
    "pyplot.ylabel('y', fontsize=16)\n",
    "\n",
    "pyplot.plot(x_main, y_main, color='k', linestyle='-', linewidth=2)\n",
    "pyplot.plot(xn, yn, color='k', linestyle='-', linewidth=2)\n",
    "\n",
    "pyplot.plot(numpy.append([panel.xa for panel in panels_main], panels_main[0].xa), \n",
    "           numpy.append([panel.ya for panel in panels_main], panels_main[0].ya), \n",
    "           linestyle='-', linewidth=1, marker='o', markersize=6, color='r')\n",
    "pyplot.plot(numpy.append([panel.xa for panel in panels_flap], panels_flap[0].xa), \n",
    "           numpy.append([panel.ya for panel in panels_flap], panels_flap[0].ya), \n",
    "           linestyle='-', linewidth=1, marker='o', markersize=6, color='r')\n",
    "\n",
    "pyplot.axis('scaled', adjustable='box')\n",
    "pyplot.xlim(-0.15, 1.4)\n",
    "pyplot.ylim(-0.25,0.15)"
   ]
  },
  {
   "cell_type": "code",
   "execution_count": 73,
   "metadata": {
    "collapsed": true
   },
   "outputs": [],
   "source": [
    "def bisection():\n",
    "    "
   ]
  },
  {
   "cell_type": "code",
   "execution_count": 74,
   "metadata": {
    "collapsed": true
   },
   "outputs": [],
   "source": []
  },
  {
   "cell_type": "code",
   "execution_count": 76,
   "metadata": {
    "collapsed": true
   },
   "outputs": [],
   "source": []
  },
  {
   "cell_type": "code",
   "execution_count": 77,
   "metadata": {
    "collapsed": true
   },
   "outputs": [],
   "source": []
  },
  {
   "cell_type": "code",
   "execution_count": null,
   "metadata": {
    "collapsed": true
   },
   "outputs": [],
   "source": []
  },
  {
   "cell_type": "code",
   "execution_count": null,
   "metadata": {
    "collapsed": true
   },
   "outputs": [],
   "source": []
  },
  {
   "cell_type": "code",
   "execution_count": null,
   "metadata": {
    "collapsed": true
   },
   "outputs": [],
   "source": [
    "#use bisection method to determine the angle of attack that will cause zero lift \n",
    "#when the flap angle is 20 degrees"
   ]
  }
 ],
 "metadata": {
  "anaconda-cloud": {},
  "kernelspec": {
   "display_name": "Python [Root]",
   "language": "python",
   "name": "Python [Root]"
  },
  "language_info": {
   "codemirror_mode": {
    "name": "ipython",
    "version": 3
   },
   "file_extension": ".py",
   "mimetype": "text/x-python",
   "name": "python",
   "nbconvert_exporter": "python",
   "pygments_lexer": "ipython3",
   "version": "3.5.2"
  }
 },
 "nbformat": 4,
 "nbformat_minor": 0
}
