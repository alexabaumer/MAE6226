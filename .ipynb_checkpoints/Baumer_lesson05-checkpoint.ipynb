{
 "cells": [
  {
   "cell_type": "markdown",
   "metadata": {},
   "source": [
    "# Lesson 5 - "
   ]
  },
  {
   "cell_type": "code",
   "execution_count": 1,
   "metadata": {
    "collapsed": true
   },
   "outputs": [],
   "source": [
    "import numpy\n",
    "import math \n",
    "from matplotlib import pyplot\n",
    "%matplotlib inline"
   ]
  },
  {
   "cell_type": "code",
   "execution_count": 2,
   "metadata": {
    "collapsed": true
   },
   "outputs": [],
   "source": [
    "#establish grid \n",
    "N = 50 \n",
    "x_start, x_end = -2.0, 2.0\n",
    "y_start, y_end = -0.5, 0.5\n",
    "x = numpy.linspace(x_start, x_end, N)\n",
    "y = numpy.linspace(y_start, y_end, N)\n",
    "X, Y = numpy.meshgrid(x,y)"
   ]
  },
  {
   "cell_type": "code",
   "execution_count": 3,
   "metadata": {
    "collapsed": true
   },
   "outputs": [],
   "source": [
    "gamma = 1.0 #strength of vortex"
   ]
  },
  {
   "cell_type": "markdown",
   "metadata": {},
   "source": [
    "## Finite row of vortices"
   ]
  },
  {
   "cell_type": "code",
   "execution_count": 4,
   "metadata": {
    "collapsed": true
   },
   "outputs": [],
   "source": [
    "def getVel_vortex_finite(strength, xi, yi, X, Y):\n",
    "    \"\"\"Returns the velocity field of a finite row of vortices\n",
    "    \n",
    "    strength: strength of vortex, float\n",
    "    xi: x-coordinate of the ith vortex, float\n",
    "    yi: y-coordinate of the ith vortex, float\n",
    "    X: 2D numpy array of the vortex, x-coordinates\n",
    "    Y: 2D numpy array of the vortex, y-coordinates\n",
    "    \n",
    "    u: x component of velocity vector field, 2D numpy array of floats\n",
    "    v: y component of velocity vector field, 2D numpy array of floats\n",
    "    \"\"\"\n",
    "\n",
    "    \n",
    "    return u, v"
   ]
  },
  {
   "cell_type": "code",
   "execution_count": 1,
   "metadata": {
    "collapsed": true
   },
   "outputs": [],
   "source": [
    "def getStr_velocity_finite(strength, xi, yi, X, Y, N):\n",
    "    \"\"\"Returns stream function of a finite row of vortices\n",
    "    \n",
    "    strength: strength of vortex, float\n",
    "    xi: x-coordinate of the ith vortex, float\n",
    "    yi: y-coordinate of the ith vortex, float\n",
    "    X: 2D numpy array of the vortex, x-coordinates\n",
    "    Y: 2D numpy array of the vortex, y-coordinates\n",
    "    \n",
    "    psi: streamfunction \n",
    "    \"\"\"\n",
    "    \n",
    "    \n",
    "    return psi "
   ]
  },
  {
   "cell_type": "code",
   "execution_count": null,
   "metadata": {
    "collapsed": true
   },
   "outputs": [],
   "source": []
  }
 ],
 "metadata": {
  "anaconda-cloud": {},
  "kernelspec": {
   "display_name": "Python [Root]",
   "language": "python",
   "name": "Python [Root]"
  },
  "language_info": {
   "codemirror_mode": {
    "name": "ipython",
    "version": 3
   },
   "file_extension": ".py",
   "mimetype": "text/x-python",
   "name": "python",
   "nbconvert_exporter": "python",
   "pygments_lexer": "ipython3",
   "version": "3.5.2"
  }
 },
 "nbformat": 4,
 "nbformat_minor": 0
}
