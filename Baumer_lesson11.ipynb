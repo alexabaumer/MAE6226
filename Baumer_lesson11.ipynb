{
 "cells": [
  {
   "cell_type": "code",
   "execution_count": 2,
   "metadata": {
    "collapsed": true
   },
   "outputs": [],
   "source": [
    "import os \n",
    "import numpy\n",
    "from scipy import integrate, linalg\n",
    "from matplotlib import pyplot \n",
    "%matplotlib inline"
   ]
  },
  {
   "cell_type": "code",
   "execution_count": 3,
   "metadata": {
    "collapsed": true
   },
   "outputs": [],
   "source": [
    "#load geometry from data file \n",
    "naca_filepath = os.path.join('naca0012.dat')\n",
    "with open(naca_filepath, 'r') as infile:\n",
    "    x, y = numpy.loadtxt(infile, dtype=float, unpack=True)"
   ]
  },
  {
   "cell_type": "code",
   "execution_count": 4,
   "metadata": {
    "collapsed": false
   },
   "outputs": [
    {
     "data": {
      "text/plain": [
       "(-0.1, 0.1)"
      ]
     },
     "execution_count": 4,
     "metadata": {},
     "output_type": "execute_result"
    },
    {
     "data": {
      "image/png": "[encoded data removed]",
      "text/plain": [
       "<matplotlib.figure.Figure at 0x10d970278>"
      ]
     },
     "metadata": {},
     "output_type": "display_data"
    }
   ],
   "source": [
    "width = 10\n",
    "pyplot.figure(figsize=(width, width))\n",
    "pyplot.grid()\n",
    "pyplot.xlabel('x', fontsize=16)\n",
    "pyplot.ylabel('y', fontsize=16)\n",
    "pyplot.plot(x, y, color='k', linestyle='-', linewidth=2)\n",
    "pyplot.axis('scaled', adjustable='box')\n",
    "pyplot.xlim(-0.1, 1.1)\n",
    "pyplot.ylim(-0.1, 0.1)"
   ]
  },
  {
   "cell_type": "code",
   "execution_count": 5,
   "metadata": {
    "collapsed": false
   },
   "outputs": [],
   "source": [
    "class Panel:\n",
    "    \n",
    "    def __init__(self, xa, ya, xb, yb):\n",
    "        \n",
    "        self.xa, self.ya = xa, ya #panel start \n",
    "        self.xb, self.yb = xb, yb #panel end\n",
    "        \n",
    "        self.xc, self.yc = (xa+xb)/2, (ya+yb)/2 #panel center \n",
    "        self.length = numpy.sqrt((xb-xa)**2 + (yb-ya)**2) #panel length\n",
    "        \n",
    "        #angle between x axis and panel's normal - orientation \n",
    "        if xb-xa <= 0.0:\n",
    "            self.beta = numpy.arccos((yb-ya)/self.length)\n",
    "        elif xb-xa > 0.0:\n",
    "            self.beta = numpy.pi + numpy.arccos(-(yb-ya)/self.length)\n",
    "            \n",
    "        #panel location \n",
    "        if self.beta <= numpy.pi:\n",
    "            self.loc = 'upper' #upper surface\n",
    "        else:\n",
    "            self.loc = 'lower' #lower surface \n",
    "            \n",
    "        self.sigma = 0.0 #strength of source\n",
    "        self.vt = 0.0 #tangential velocity \n",
    "        self.cp = 0.0 #pressure coeff"
   ]
  },
  {
   "cell_type": "code",
   "execution_count": 14,
   "metadata": {
    "collapsed": false
   },
   "outputs": [],
   "source": [
    "def define_panels(x, y, N=40):\n",
    "    \"\"\"discretizes geometry into panels using cosine method\"\"\"\n",
    "    \n",
    "    R = (x.max()-x.min())/2.0 #circle radius \n",
    "    x_center = (x.max()+x.min())/2.0 #x coordinate of circle center\n",
    "    \n",
    "    theta = numpy.linspace(0.0, 2.0*numpy.pi, N+1) #array of angles \n",
    "    x_circle = x_center + R*numpy.cos(theta) #x coordinates of circle\n",
    "    \n",
    "    x_ends = numpy.copy(x_circle) #x coordinates of panels end-points\n",
    "    y_ends = numpy.empty_like(x_ends) #y coordinates of panels end points\n",
    "    \n",
    "    #extend coordinates to consider closed surface\n",
    "    x, y = numpy.append(x, x[0]), numpy.append(y, y[0])\n",
    "    \n",
    "    #compute y coordinates of end points by projection \n",
    "    I = 0 \n",
    "    for i in range(N):\n",
    "        while I < len(x)-1:\n",
    "            if (x[I] <= x_ends[i] <= x[I+1]) or (x[I+1] <= x_ends[i] <= x[I]):\n",
    "                break\n",
    "            else:\n",
    "                I += 1\n",
    "        a = (y[I+1]-y[I])/(x[I+1]-x[I])\n",
    "        b = y[I+1] - a*x[I+1]\n",
    "        y_ends[i] = a*x_ends[i] + b\n",
    "        y_ends[N] = y_ends[0]\n",
    "        \n",
    "        \n",
    "    #create panels \n",
    "    panels = numpy.empty(N, dtype=object)\n",
    "    for i in range(N):\n",
    "        panels[i] = Panel(x_ends[i], y_ends[i], x_ends[i+1], y_ends[i+1])\n",
    "        \n",
    "    return panels"
   ]
  },
  {
   "cell_type": "code",
   "execution_count": 15,
   "metadata": {
    "collapsed": false
   },
   "outputs": [],
   "source": [
    "#discretize geometry into panels \n",
    "panels = define_panels(x, y, N=40)"
   ]
  },
  {
   "cell_type": "code",
   "execution_count": 16,
   "metadata": {
    "collapsed": false
   },
   "outputs": [
    {
     "data": {
      "image/png": "[encoded data removed]",
      "text/plain": [
       "<matplotlib.figure.Figure at 0x10d9b8828>"
      ]
     },
     "metadata": {},
     "output_type": "display_data"
    }
   ],
   "source": [
    "#plot discretized geometry \n",
    "width = 10\n",
    "pyplot.figure(figsize=(width, width))\n",
    "pyplot.grid()\n",
    "pyplot.xlabel('x', fontsize=16)\n",
    "pyplot.ylabel('y', fontsize=16)\n",
    "pyplot.plot(x, y, color='k', linestyle='-', linewidth=2)\n",
    "pyplot.plot(numpy.append([panel.xa for panel in panels], panels[0].xa),\n",
    "           numpy.append([panel.ya for panel in panels], panels[0].ya), \n",
    "           linestyle='-', linewidth=1, marker='o', markersize=6, color='r')\n",
    "pyplot.axis('scaled', adjustable='box')\n",
    "pyplot.xlim(-0.1, 1.1)\n",
    "pyplot.ylim(-0.1, 0.1);"
   ]
  },
  {
   "cell_type": "code",
   "execution_count": 17,
   "metadata": {
    "collapsed": true
   },
   "outputs": [],
   "source": [
    "class Freestream:\n",
    "    \"\"\"Freestream conditions\"\"\"\n",
    "    def __init__(self, u_inf=1.0, alpha=0.0):\n",
    "        \"\"\"Sets the freestream speed and angle (in degrees)\"\"\"\n",
    "        \n",
    "        self.u_inf = u_inf\n",
    "        self.alpha = alpha*numpy.pi/180.0 #degrees to radians"
   ]
  },
  {
   "cell_type": "code",
   "execution_count": 18,
   "metadata": {
    "collapsed": true
   },
   "outputs": [],
   "source": [
    "freestream = Freestream(u_inf=1.0, alpha=4.0)"
   ]
  },
  {
   "cell_type": "code",
   "execution_count": 21,
   "metadata": {
    "collapsed": false
   },
   "outputs": [],
   "source": [
    "def integral(x, y, panel, dxdk, dydk):\n",
    "    \"\"\"Evaluates the contribution from a panel at a given point\"\"\"\n",
    "    \n",
    "    def integrand(s):\n",
    "        return ( ((x - (panel.xa - numpy.sin(panel.beta)*s))*dxdk\n",
    "                 +(y - (panel.ya + numpy.cos(panel.beta)*s))*dydk)\n",
    "               / ((x - (panel.xa - numpy.sin(panel.beta)*s))**2\n",
    "                +(y - (panel.ya + numpy.cos(panel.beta)*s))**2) )\n",
    "        \n",
    "    return integrate.quad(integrand, 0.0, panel.length)[0]"
   ]
  },
  {
   "cell_type": "code",
   "execution_count": 22,
   "metadata": {
    "collapsed": true
   },
   "outputs": [],
   "source": [
    "def source_contribution_normal(panels):\n",
    "    \"\"\"Builds the source contribution matrix for the normal velocity\"\"\"\n",
    "    \n",
    "    A = numpy.empty((panels.size, panels.size), dtype=float)\n",
    "    #source contribution on a panel from itself\n",
    "    numpy.fill_diagonal(A, 0.5)\n",
    "    #source contribution on a panel from others \n",
    "    for i, panel_i in enumerate(panels):\n",
    "        for j, panel_j in enumerate(panels):\n",
    "            if i != j:\n",
    "                A[i, j] - 0.5/numpy.pi * integral(panel_i.xc, panel_i.yc, \n",
    "                                                 panel_j, \n",
    "                                                 numpy.cos(panel_i.beta), \n",
    "                                                 numpy.sin(panel_i.beta))\n",
    "    return A"
   ]
  },
  {
   "cell_type": "code",
   "execution_count": 23,
   "metadata": {
    "collapsed": true
   },
   "outputs": [],
   "source": [
    "def vortex_contribution_normal(panels):\n",
    "    \"\"\"Builds the vortex contribution matrix for the normal velocity\"\"\"\n",
    "    \n",
    "    A = numpy.empty((panels.size, panels.size), dtype=float)\n",
    "    #vortex contribution on a panel from itself\n",
    "    numpy.fill_diagonal(A, 0.0)\n",
    "    #vortex contribution on a panel from others\n",
    "    for i, panel_i in enumerate(panels):\n",
    "        for j, panel_j in enumerate(panels):\n",
    "            if i != j:\n",
    "                A[i, j] = -0.5/numpy.pi*integral(panel_i.xc, panel_i.yc, \n",
    "                                                panel_j, \n",
    "                                                numpy.sin(panel_i.beta), \n",
    "                                                -numpy.cos(panel_i.beta))\n",
    "    return A"
   ]
  },
  {
   "cell_type": "code",
   "execution_count": 24,
   "metadata": {
    "collapsed": true
   },
   "outputs": [],
   "source": [
    "A_source = source_contribution_normal(panels)\n",
    "B_vortex = vortex_contribution_normal(panels)"
   ]
  },
  {
   "cell_type": "code",
   "execution_count": 25,
   "metadata": {
    "collapsed": true
   },
   "outputs": [],
   "source": [
    "def kutta_condition(A_source, B_vortex):\n",
    "    \"\"\"Builds the Kutta condition array\"\"\"\n",
    "    \n",
    "    b = numpy.empty(A_source.shape[0]+1, dtype=float)\n",
    "    #matrix of source contribution on tangential velocity \n",
    "    #is the same than \n",
    "    #matrix of vortex contribution on normal velocity\n",
    "    b[:-1] = B_vortex[0, :] + B_vortex[-1, :]\n",
    "    #matrix of vortex contribution on tangential velocity \n",
    "    #is the opposite of \n",
    "    #matrix of source contribution on normal velocity \n",
    "    b[-1] = -numpy.sum(A_source[0, :] + A_source[-1, :])\n",
    "    return b"
   ]
  },
  {
   "cell_type": "code",
   "execution_count": 26,
   "metadata": {
    "collapsed": true
   },
   "outputs": [],
   "source": [
    "def build_singularity_matrix(A_source, B_vortex):\n",
    "    \"\"\"Builds the left hand side matrix of the system \n",
    "    arising from source and vortex contributions\"\"\"\n",
    "    \n",
    "    A = numpy.empty((A_source.shape[0]+1, A_source.shape[1]+1), dtype=float)\n",
    "    #source contribution matrix \n",
    "    A[:-1, :-1] = A_source\n",
    "    #vortex contribution array \n",
    "    A[:-1, -1] = numpy.sum(B_vortex, axis=1)\n",
    "    #Kutta condition array \n",
    "    A[-1, :] = kutta_condition(A_source, B_vortex)\n",
    "    return A"
   ]
  },
  {
   "cell_type": "code",
   "execution_count": 27,
   "metadata": {
    "collapsed": true
   },
   "outputs": [],
   "source": [
    "def build_freestream_rhs(panels, freestream):\n",
    "    \"\"\"Builds the RHS of the system \n",
    "    arising from the freestream contribution\"\"\"\n",
    "    \n",
    "    b = numpy.empty(panels.size+1, dtype=float)\n",
    "    #freestream contribution on each panel \n",
    "    for i, panel in enumerate(panels):\n",
    "        b[i] = -freestream.u_inf * numpy.cos(freestream.alpha - panel.beta)\n",
    "    #freestream contribution on the Kutta condition \n",
    "    b[-1] = -freestream.u_inf*( numpy.sin(freestream.alpha-panels[0].beta)\n",
    "                              + numpy.sin(freestream.alpha-panels[-1].beta) )\n",
    "    return b"
   ]
  },
  {
   "cell_type": "code",
   "execution_count": 28,
   "metadata": {
    "collapsed": true
   },
   "outputs": [],
   "source": [
    "A = build_singularity_matrix(A_source, B_vortex)\n",
    "b = build_freestream_rhs(panels, freestream)"
   ]
  },
  {
   "cell_type": "code",
   "execution_count": 30,
   "metadata": {
    "collapsed": false
   },
   "outputs": [],
   "source": [
    "#solve for the singularity strengths\n",
    "strengths = numpy.linalg.solve(A, b)\n",
    "\n",
    "#store source strength on each panel \n",
    "for i, panel in enumerate(panels):\n",
    "    panel.sigma = strengths[i]\n",
    "    \n",
    "#store circulation density \n",
    "gamma = strengths[-1]"
   ]
  },
  {
   "cell_type": "code",
   "execution_count": 31,
   "metadata": {
    "collapsed": true
   },
   "outputs": [],
   "source": [
    "def compute_tangential_velocity(panels, freestream, gamma, A_source, B_vortex):\n",
    "    \"\"\"Computes the tangential surface velocity\"\"\"\n",
    "    \n",
    "    A = numpy.empty((panels.size, panels.size+1), dtype=float)\n",
    "    #matrix of source contribution on tangential velocity\n",
    "    #is the same than \n",
    "    #matrix of vortex contribution on normal velocity \n",
    "    A[:,:-1] = B_vortex\n",
    "    #matrix of vortex contribution on tangential velocity \n",
    "    #is the opposite of \n",
    "    #matrix of source contribution on normal velocity \n",
    "    A[:, -1] = -numpy.sum(A_source, axis=1)\n",
    "    #freestream contribution \n",
    "    b = freestream.u_inf * numpy.sin([freestream.alpha - panel.beta\n",
    "                                     for panel in panels])\n",
    "    \n",
    "    strengths = numpy.append([panel.sigma for panel in panels], gamma)\n",
    "    \n",
    "    tangential_velocities = numpy.dot(A, strengths) + b\n",
    "    \n",
    "    for i, panel in enumerate(panels):\n",
    "        panel.vt = tangential_velocities[i]"
   ]
  },
  {
   "cell_type": "code",
   "execution_count": 33,
   "metadata": {
    "collapsed": true
   },
   "outputs": [],
   "source": [
    "#tangential velocity at each panel center\n",
    "compute_tangential_velocity(panels, freestream, gamma, A_source, B_vortex)"
   ]
  },
  {
   "cell_type": "code",
   "execution_count": 34,
   "metadata": {
    "collapsed": true
   },
   "outputs": [],
   "source": [
    "def compute_pressure_coefficient(panels, freestream):\n",
    "    \"\"\"Computes the surface pressure coefficients\"\"\"\n",
    "    \n",
    "    for panel in panels:\n",
    "        panel.cp = 1.0 - (panel.vt/freestream.u_inf)**2"
   ]
  },
  {
   "cell_type": "code",
   "execution_count": 35,
   "metadata": {
    "collapsed": true
   },
   "outputs": [],
   "source": [
    "#surface pressure coefficient \n",
    "compute_pressure_coefficient(panels, freestream)"
   ]
  },
  {
   "cell_type": "code",
   "execution_count": null,
   "metadata": {
    "collapsed": true
   },
   "outputs": [],
   "source": []
  },
  {
   "cell_type": "code",
   "execution_count": null,
   "metadata": {
    "collapsed": true
   },
   "outputs": [],
   "source": []
  }
 ],
 "metadata": {
  "anaconda-cloud": {},
  "kernelspec": {
   "display_name": "Python [Root]",
   "language": "python",
   "name": "Python [Root]"
  },
  "language_info": {
   "codemirror_mode": {
    "name": "ipython",
    "version": 3
   },
   "file_extension": ".py",
   "mimetype": "text/x-python",
   "name": "python",
   "nbconvert_exporter": "python",
   "pygments_lexer": "ipython3",
   "version": "3.5.2"
  }
 },
 "nbformat": 4,
 "nbformat_minor": 0
}
