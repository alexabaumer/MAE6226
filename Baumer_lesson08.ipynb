{
 "cells": [
  {
   "cell_type": "code",
   "execution_count": 1,
   "metadata": {
    "collapsed": true
   },
   "outputs": [],
   "source": [
    "import numpy\n",
    "import math \n",
    "from matplotlib import pyplot\n",
    "%matplotlib inline"
   ]
  },
  {
   "cell_type": "code",
   "execution_count": 2,
   "metadata": {
    "collapsed": true
   },
   "outputs": [],
   "source": [
    "N = 100 \n",
    "x_start, x_end = -1.0, 1.0\n",
    "y_start, y_end = -1.5, 1.5\n",
    "x = numpy.linspace(x_start, x_end, N)\n",
    "y = numpy.linspace(y_start, y_end, N)\n",
    "X,Y = numpy.meshgrid(x,y)"
   ]
  },
  {
   "cell_type": "code",
   "execution_count": 3,
   "metadata": {
    "collapsed": true
   },
   "outputs": [],
   "source": [
    "u_inf = 1.0\n",
    "\n",
    "u_freestream = u_inf * numpy.ones((N,N), dtype=float)\n",
    "v_freestream = numpy.zeros((N,N), dtype=float)"
   ]
  },
  {
   "cell_type": "code",
   "execution_count": 4,
   "metadata": {
    "collapsed": true
   },
   "outputs": [],
   "source": [
    "class Source: \n",
    "    \n",
    "    def __init__(self, strength, x, y):\n",
    "        \n",
    "        self.strength = strength\n",
    "        self.x, self.y = x,y\n",
    "        \n",
    "    def velocity(self, X, Y):\n",
    "        \n",
    "        self.u = self.strength/(2*math.pi)*(X-self.x)/((X-self.x)**2 + (Y-self.y)**2)\n",
    "        self.v = self.strength/(2*math.pi)*(Y-self.y)/((X-self.x)**2 + (Y-self.y)**2)\n",
    "        \n",
    "    def stream_function(self, X, Y):\n",
    "        \n",
    "        self.psi = self.strength/(2*math.pi)*numpy.arctan2((Y-self.y), (X-self.x))\n",
    "        \n",
    "    "
   ]
  },
  {
   "cell_type": "code",
   "execution_count": 6,
   "metadata": {
    "collapsed": false
   },
   "outputs": [],
   "source": [
    "N_sources = 11\n",
    "strength = 5.0 \n",
    "strength_source = strength/N_sources\n",
    "x_source = numpy.zeros(N_sources, dtype=float)\n",
    "y_source = numpy.linspace(-1.0, 1.0, N_sources)\n",
    "\n",
    "sources = numpy.empty(N_sources, dtype=object)\n",
    "for i in range(N_sources):\n",
    "    sources[i] = Source(strength_source, x_source[i], y_source[i])\n",
    "    sources[i].velocity(X, Y)\n",
    "    \n",
    "u = u_freestream.copy()\n",
    "v = v_freestream.copy()\n",
    "for source in sources:\n",
    "    u += source.u\n",
    "    v += source.v"
   ]
  },
  {
   "cell_type": "code",
   "execution_count": null,
   "metadata": {
    "collapsed": true
   },
   "outputs": [],
   "source": []
  }
 ],
 "metadata": {
  "kernelspec": {
   "display_name": "Python [Root]",
   "language": "python",
   "name": "Python [Root]"
  },
  "language_info": {
   "codemirror_mode": {
    "name": "ipython",
    "version": 3
   },
   "file_extension": ".py",
   "mimetype": "text/x-python",
   "name": "python",
   "nbconvert_exporter": "python",
   "pygments_lexer": "ipython3",
   "version": "3.5.2"
  }
 },
 "nbformat": 4,
 "nbformat_minor": 0
}
